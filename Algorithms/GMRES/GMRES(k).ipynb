{
 "metadata": {
  "name": ""
 },
 "nbformat": 3,
 "nbformat_minor": 0,
 "worksheets": [
  {
   "cells": [
    {
     "cell_type": "code",
     "collapsed": false,
     "input": [
      "# A test implimentation of GMRES(k) algorithm\n",
      "import numpy as np"
     ],
     "language": "python",
     "metadata": {},
     "outputs": [],
     "prompt_number": 2
    },
    {
     "cell_type": "code",
     "collapsed": false,
     "input": [
      "# Generate a random mxm matrix and corresponding vector.\n",
      "# m = 1000\n",
      "# A = np.random.random((m, m))\n",
      "\n",
      "# Generate a random matrix with nice eigenvalues.\n",
      "# We choose a matrix Lambda containing clumped eigenvalues along the diagonal\n",
      "# and then left- and right-multiply by a random orthogonal matrix Q, which preserves the eigenvalues.\n",
      "# These parameters can be adjusted to make the problem harder or easier for GMRES.\n",
      "m = 500\n",
      "A = np.random.random((m, m))\n",
      "Q = np.linalg.qr(A) # This is one way to get a quasi-random orthogonal matrix\n",
      "Lambda=np.zeros((m,m))\n",
      "q = 20 # number of eigenvalue clumps\n",
      "r = .3 # radius of clumps\n",
      "for i in range(0,q):\n",
      "    temp = np.random.random() + i + 1\n",
      "    for j in range(i * (m/q),(i+1) * (m/q)):\n",
      "        Lambda[j,j] = temp + np.random.random() * r\n",
      "A = np.dot(np.dot(Q[0], Lambda), Q[0].T)\n",
      "\n",
      "# Set parmeters\n",
      "b = np.random.random((m, 1))\n",
      "tol = 10**(-3)# tolerance\n",
      "res = np.linalg.norm(b)# residual\n",
      "n = 0# counts number of iterations so far\n",
      "k = 20 # maximum iterations before restarting\n",
      "maxiter = 50# maximum number of allowable restarts\n",
      "guess = b# initial guess"
     ],
     "language": "python",
     "metadata": {},
     "outputs": [],
     "prompt_number": 80
    },
    {
     "cell_type": "code",
     "collapsed": false,
     "input": [
      "# This is the part that impliments GMRES(k)\n",
      "n = 0\n",
      "while n < maxiter and res > tol:\n",
      "    \n",
      "    # Update the count\n",
      "    n = n + 1\n",
      "    \n",
      "    # Update array seeds\n",
      "    Q = guess / np.linalg.norm(guess)\n",
      "    H = np.array([[0]], dtype=np.float)\n",
      "    \n",
      "    p = 0\n",
      "    while p < k and res > tol:\n",
      "        \n",
      "        # Update the count\n",
      "        p = p + 1\n",
      "        \n",
      "        # Resize H as needed.\n",
      "        if np.shape(H)[0] < p+2 or np.shape(H)[1] < p+2:\n",
      "            temp = np.zeros((2*p+1, 2*p+1), dtype = np.float)\n",
      "            temp[:H.shape[0],:H.shape[1]] = H\n",
      "            H = temp\n",
      "        \n",
      "        # Perform step p of the Arnoldi iteration\n",
      "        v = np.dot(A, np.array([Q[:, p-1]]).T)\n",
      "        for j in range(1,p+1):\n",
      "            H[j-1, p-1] = np.dot(np.array([Q[:, j-1]]), v)[0,0]\n",
      "            v = v - H[j-1, p-1] * np.array([Q[:, j-1]]).T\n",
      "        H[p,p-1] = np.linalg.norm(v)\n",
      "        Q = np.hstack((Q, v / H[p, p-1]))\n",
      "        \n",
      "        # Solve the least sqrares problem\n",
      "        be = np.zeros((p+1, 1))\n",
      "        be[0,0] = np.linalg.norm(b)\n",
      "        y = np.linalg.lstsq(H[0:p+1, 0:p], be)\n",
      "        x = np.dot(Q[:, 0:p], y[0]) \n",
      "        res = np.sqrt(y[1][0]) / np.linalg.norm(be)\n",
      "     \n",
      "    # Update the guess before restarting\n",
      "    guess = x"
     ],
     "language": "python",
     "metadata": {},
     "outputs": [],
     "prompt_number": 81
    },
    {
     "cell_type": "code",
     "collapsed": false,
     "input": [],
     "language": "python",
     "metadata": {},
     "outputs": []
    }
   ],
   "metadata": {}
  }
 ]
}